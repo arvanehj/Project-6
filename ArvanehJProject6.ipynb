{
 "cells": [
  {
   "cell_type": "code",
   "execution_count": 37,
   "metadata": {},
   "outputs": [],
   "source": [
    "from pathlib import Path\n",
    "\n",
    "# Core Math and Visualization Libraries\n",
    "import matplotlib.pyplot as plt\n",
    "import pandas as pd\n",
    "import nltk\n",
    "import seaborn as sns\n",
    "\n",
    "# sci-kit (sklearn) is a Machine Learning Library\n",
    "from sklearn.feature_extraction.text import CountVectorizer, TfidfVectorizer\n",
    "from sklearn.metrics import confusion_matrix, accuracy_score,ConfusionMatrixDisplay\n",
    "from sklearn.model_selection import train_test_split\n",
    "from sklearn.naive_bayes import MultinomialNB \n",
    "from sklearn.utils.multiclass import unique_labels\n",
    "\n",
    "from nltk.stem import WordNetLemmatizer\n",
    "from nltk.corpus import stopwords\n",
    "\n"
   ]
  },
  {
   "cell_type": "code",
   "execution_count": 38,
   "metadata": {},
   "outputs": [
    {
     "name": "stdout",
     "output_type": "stream",
     "text": [
      "Defaulting to user installation because normal site-packages is not writeable\n",
      "Requirement already satisfied: pandas in /Users/arvanehjamil/Library/Python/3.9/lib/python/site-packages (2.2.3)\n",
      "Requirement already satisfied: numpy>=1.22.4 in /Users/arvanehjamil/Library/Python/3.9/lib/python/site-packages (from pandas) (2.0.2)\n",
      "Requirement already satisfied: python-dateutil>=2.8.2 in /Users/arvanehjamil/Library/Python/3.9/lib/python/site-packages (from pandas) (2.9.0.post0)\n",
      "Requirement already satisfied: pytz>=2020.1 in /Users/arvanehjamil/Library/Python/3.9/lib/python/site-packages (from pandas) (2024.2)\n",
      "Requirement already satisfied: tzdata>=2022.7 in /Users/arvanehjamil/Library/Python/3.9/lib/python/site-packages (from pandas) (2024.2)\n",
      "Requirement already satisfied: six>=1.5 in /Library/Developer/CommandLineTools/Library/Frameworks/Python3.framework/Versions/3.9/lib/python3.9/site-packages (from python-dateutil>=2.8.2->pandas) (1.15.0)\n",
      "Note: you may need to restart the kernel to use updated packages.\n"
     ]
    }
   ],
   "source": [
    "%pip install pandas\n"
   ]
  },
  {
   "cell_type": "markdown",
   "metadata": {},
   "source": [
    "Q1. there are 5574 samples in the dataset\n",
    "Q2. There are two labels, spam and ham\n",
    "Q3. The dataset is not balanced, there seems to be more ham than spam. There is 4824 ham and 747 spam."
   ]
  },
  {
   "cell_type": "code",
   "execution_count": 39,
   "metadata": {},
   "outputs": [],
   "source": [
    "CWD = Path.cwd()\n",
    "dataset_filepath = CWD.joinpath('dataset','SMSSpamCollection')"
   ]
  },
  {
   "cell_type": "markdown",
   "metadata": {},
   "source": [
    "Q4.  CWD stands for current working directory, it returns the path of the directory python is running. The joinpath method combines paths into one single path\n",
    "Q5. Two additional methods in a path are resolve() which resolves symbolic links. Another path is exists(). This path return true if the path points to an existing directory."
   ]
  },
  {
   "cell_type": "code",
   "execution_count": 40,
   "metadata": {},
   "outputs": [
    {
     "name": "stdout",
     "output_type": "stream",
     "text": [
      "  sentiment                                            message\n",
      "0       ham                      Ok lar... Joking wif u oni...\n",
      "1      spam  Free entry in 2 a wkly comp to win FA Cup fina...\n",
      "2       ham  U dun say so early hor... U c already then say...\n",
      "3       ham  Nah I don't think he goes to usf, he lives aro...\n",
      "4      spam  FreeMsg Hey there darling it's been 3 week's n...\n"
     ]
    },
    {
     "data": {
      "text/plain": [
       "sentiment\n",
       "ham     4824\n",
       "spam     747\n",
       "Name: count, dtype: int64"
      ]
     },
     "execution_count": 40,
     "metadata": {},
     "output_type": "execute_result"
    }
   ],
   "source": [
    "\n",
    "data = pd.read_csv(dataset_filepath, encoding=\"utf-8\", delimiter=\"\\t\")\n",
    "print(data.head())\n",
    "\n",
    "types_of_values = data['sentiment'].value_counts()\n",
    "types_of_values"
   ]
  },
  {
   "cell_type": "markdown",
   "metadata": {},
   "source": [
    "Q6. You can use .iloc[] where the syntax is df.iloc[row_index] to access indiviudal rows from the CSV file"
   ]
  },
  {
   "cell_type": "code",
   "execution_count": 41,
   "metadata": {},
   "outputs": [
    {
     "data": {
      "image/png": "[encoded data removed]",
      "text/plain": [
       "<Figure size 640x480 with 1 Axes>"
      ]
     },
     "metadata": {},
     "output_type": "display_data"
    }
   ],
   "source": [
    "label_counts = data['sentiment'].value_counts()\n",
    "\n",
    "labels = label_counts.index\n",
    "counts = label_counts.values\n",
    "\n",
    "plt.bar(labels, counts)\n",
    "\n",
    "plt.title(\"Observations by Classification Type\")\n",
    "plt.xlabel(\"Classification Type\")\n",
    "plt.ylabel(\"Number of Samples\")\n",
    "\n",
    "for i, count in enumerate(counts):\n",
    "    plt.text(i, count, str(count), ha='center', va='bottom')\n",
    "\n",
    "plt.show()"
   ]
  },
  {
   "cell_type": "markdown",
   "metadata": {},
   "source": [
    "Q7. The value_counts method is used to count the times unique values are in a series and returns a pandas series"
   ]
  },
  {
   "cell_type": "code",
   "execution_count": 42,
   "metadata": {},
   "outputs": [],
   "source": [
    "X_train, X_test, y_train, y_test = train_test_split(data['message'], data['sentiment'], test_size=0.2, random_state=42, )\n"
   ]
  },
  {
   "cell_type": "markdown",
   "metadata": {},
   "source": [
    "Q8. This functions splits a dataset. It splits into one subset for training a model and another subset for testing the model. Additional parameters can include test_size, train_size, and random_state. Test_size helps with specifying the  proportion of a dataset to include in a test split. Train_size helps controls the size of the training set. Random_state will control the randomness of a split. It will make sure that the same split happens each time a code is run."
   ]
  },
  {
   "cell_type": "code",
   "execution_count": 43,
   "metadata": {},
   "outputs": [],
   "source": [
    "import string\n",
    "\n",
    "def preprocess_text(text: str) -> str:\n",
    "    \"\"\"\n",
    "    This method processes a text by lower the letters, removing punctuation, removing stopwords, and lemmatizing the words.\n",
    "\n",
    "    \"\"\"\n",
    "    \n",
    "    lowercase_text = text.lower()\n",
    "    lowercase_text = lowercase_text.translate(str.maketrans('', '', string.punctuation))\n",
    "    split_text = lowercase_text.split()\n",
    "\n",
    "    stop_words = set(stopwords.words('english'))\n",
    "    filtered_words = [word for word in split_text if word not in stop_words]\n",
    "\n",
    "    lemmatizer = WordNetLemmatizer()\n",
    "    lemmatized_words = [lemmatizer.lemmatize(word) for word in filtered_words]\n",
    "\n",
    "    return \" \".join(lemmatized_words)"
   ]
  },
  {
   "cell_type": "markdown",
   "metadata": {},
   "source": [
    "The apply method can apply a function along the axis of data/series. This allows the preprocess function to be applies to each row of the dataset. Apply applies the function to each element so therefore preprocess_text could be applied to each row of the dataset. To use the apply method you could use .apply() and put the function into the parantheses."
   ]
  },
  {
   "cell_type": "code",
   "execution_count": 44,
   "metadata": {},
   "outputs": [],
   "source": [
    "preprocessed_X_train = X_train.apply(preprocess_text)\n",
    "preprocessed_X_test = X_test.apply(preprocess_text)"
   ]
  },
  {
   "cell_type": "code",
   "execution_count": 45,
   "metadata": {},
   "outputs": [],
   "source": [
    "def create_bag_of_words_model(preprocessed_X_train):\n",
    "    \"\"\"\n",
    "    This method creates a bag of words model from a preprocessed text.\n",
    "\n",
    "    \"\"\"\n",
    "    \n",
    "    vectorizer = CountVectorizer()\n",
    "    vectorized_data = vectorizer.fit_transform(preprocessed_X_train)\n",
    "    return vectorized_data, vectorizer\n",
    "    \n",
    "\n",
    "def create_tfidf_model(preprocessed_X_train):\n",
    "    \"\"\"\n",
    "    This method creates a tfidf model from a preprocessed text.\n",
    "\n",
    "    \"\"\"\n",
    "    \n",
    "    vectorizer = TfidfVectorizer()\n",
    "    vectorized_data = vectorizer.fit_transform(preprocessed_X_train)\n",
    "    return vectorized_data, vectorizer"
   ]
  },
  {
   "cell_type": "code",
   "execution_count": 53,
   "metadata": {},
   "outputs": [],
   "source": [
    "def train_model(x_train, y_train):\n",
    "    \"\"\"\n",
    "    This method trains a naive bayes model.\n",
    "\n",
    "    \"\"\"\n",
    "    \n",
    "    model = MultinomialNB()\n",
    "    model.fit(x_train, y_train)\n",
    "    return model\n",
    "\n"
   ]
  },
  {
   "cell_type": "markdown",
   "metadata": {},
   "source": [
    "Q10. CountVectorizer and Tfidvectorizer are classes for coverting a collection of text documents into data that can later be used by machine learning. Countvectorizer converts the collection SMSSpamCollection into token counts which is bag of words. The Tfidvectorizer turns SMSSpamCollection into TF-IDF which counts how many times a word appears in a document. This is similar to preprocessing text that we have used before.\n",
    "Q11. The fit_transform method is used to learn from data and apply the transformation as well.\n",
    "Q12. Two additional methods are get_feature_names_out() and transform(). Get_feature_names_out() returns the list of words or tokens that were learned and gives you the unique terms used in the document. Transform() coverts new data into the same space that was learned."
   ]
  },
  {
   "cell_type": "code",
   "execution_count": 56,
   "metadata": {},
   "outputs": [],
   "source": [
    "x_train, vectorizer = create_bag_of_words_model(preprocessed_X_train)\n",
    "x_test = vectorizer.transform(preprocessed_X_test)"
   ]
  },
  {
   "cell_type": "code",
   "execution_count": 58,
   "metadata": {},
   "outputs": [],
   "source": [
    "model = train_model(x_train, y_train)"
   ]
  },
  {
   "cell_type": "code",
   "execution_count": 59,
   "metadata": {},
   "outputs": [],
   "source": [
    "def train_model(x_train, y_train):\n",
    "    \"\"\"\n",
    "    This method trains a naive bayes model.\n",
    "\n",
    "    \"\"\"\n",
    "    \n",
    "    model = MultinomialNB()\n",
    "    model.fit(x_train, y_train)\n",
    "    return model"
   ]
  },
  {
   "cell_type": "code",
   "execution_count": 60,
   "metadata": {},
   "outputs": [],
   "source": [
    "model = train_model(x_train, y_train)"
   ]
  },
  {
   "cell_type": "markdown",
   "metadata": {},
   "source": [
    "Q13. Additional methods are predict() and score(). Predict() can predict class labels for data and score() can calculate model accuary of a test set.\n",
    "Q14. Another variation is the Gaussian Naive Bayes (GuassianNB) or Bernoulli Naive Bayes"
   ]
  },
  {
   "cell_type": "code",
   "execution_count": 61,
   "metadata": {},
   "outputs": [],
   "source": [
    "def evaluate_model(model, x_test, y_test):\n",
    "    \"\"\"\n",
    "    This method evaluates a model.\n",
    "\n",
    "    \"\"\"\n",
    "    \n",
    "    y_pred = model.predict(x_test)\n",
    "    accuracy = accuracy_score(y_test, y_pred)\n",
    "    confusion = confusion_matrix(y_test, y_pred)\n",
    "    return accuracy, confusion"
   ]
  },
  {
   "cell_type": "code",
   "execution_count": 62,
   "metadata": {},
   "outputs": [],
   "source": [
    "accuracy, cf_matrix = evaluate_model(model, x_test, y_test)"
   ]
  },
  {
   "cell_type": "code",
   "execution_count": 63,
   "metadata": {},
   "outputs": [
    {
     "name": "stdout",
     "output_type": "stream",
     "text": [
      "The accuracy is:  0.98\n"
     ]
    }
   ],
   "source": [
    "print(f\"The accuracy is: {accuracy: .2f}\")"
   ]
  },
  {
   "cell_type": "code",
   "execution_count": 64,
   "metadata": {},
   "outputs": [
    {
     "data": {
      "text/plain": [
       "<sklearn.metrics._plot.confusion_matrix.ConfusionMatrixDisplay at 0x1767c78b0>"
      ]
     },
     "execution_count": 64,
     "metadata": {},
     "output_type": "execute_result"
    },
    {
     "data": {
      "image/png": "[encoded data removed]",
      "text/plain": [
       "<Figure size 640x480 with 2 Axes>"
      ]
     },
     "metadata": {},
     "output_type": "display_data"
    }
   ],
   "source": [
    "ConfusionMatrixDisplay(cf_matrix, display_labels=model.classes_).plot()"
   ]
  }
 ],
 "metadata": {
  "kernelspec": {
   "display_name": "Python 3",
   "language": "python",
   "name": "python3"
  },
  "language_info": {
   "codemirror_mode": {
    "name": "ipython",
    "version": 3
   },
   "file_extension": ".py",
   "mimetype": "text/x-python",
   "name": "python",
   "nbconvert_exporter": "python",
   "pygments_lexer": "ipython3",
   "version": "3.9.6"
  }
 },
 "nbformat": 4,
 "nbformat_minor": 2
}
